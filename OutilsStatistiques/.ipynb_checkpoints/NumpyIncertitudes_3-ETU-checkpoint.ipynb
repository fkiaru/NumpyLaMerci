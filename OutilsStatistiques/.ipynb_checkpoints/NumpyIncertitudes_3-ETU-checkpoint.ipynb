{
 "cells": [
  {
   "cell_type": "markdown",
   "metadata": {},
   "source": [
    "<center><FONT size=\"6pt\" color=firebrick> Incertitudes-types et mesure</FONT></center>\n",
    "\n",
    "![variabiliteProgramme](img/variabiliteProgramme.png)\n"
   ]
  },
  {
   "cell_type": "markdown",
   "metadata": {},
   "source": [
    "# Fidélité et justesse d'un mesurage\n",
    "\n",
    "Tout mesurage d'une grandeur physique est entâché d'une erreur.\n",
    "\n",
    "Les erreurs sont classées en deux catégories :\n",
    "\n",
    "-\tLes **erreurs aléatoires** qui dispersent les valeurs mesurées autour d’une valeur centrale. A chaque répétition de la mesure, l’erreur aléatoire prend une valeur différente.\n",
    "-\tLes **erreurs systématiques** qui décalent la valeur mesurée d’une valeur constante (*ie* qui sera la même pour toutes les répétitions). Elles peuvent être dues à des défauts de conception de l’instrument, à son usure, à l’action d’une grandeur d’influence, ...). Elles peuvent être corrigées en ré-étalonnant l’instrument par exemple.\n",
    "\n",
    "![incertitudesSchema](img/incertitudesSchema.png)\n",
    "\n",
    "\n",
    "On distingue deux qualités d'un protocole de mesure:\n",
    "\n",
    "- La **fidélité d’un mesurage** est son aptitude à donner des mesures sans erreurs aléatoires.\n",
    "\n",
    "- La **justesse d’un mesurage** est son aptitude à donner des mesures sans erreurs systématiques.\n",
    "\n",
    "Les erreurs aléatoires ont pour origine les fluctuations imprévisibles de l’environnement, elles ne peuvent pas être corrigées mais peuvent être estimées : c’est l’objet du paragraphe suivant.\n"
   ]
  },
  {
   "cell_type": "markdown",
   "metadata": {},
   "source": [
    "# Notion d'incertitude-type\n",
    "\n",
    "*Important* : dans toute la suite, on suppose que **les erreurs systématiques ont été corrigées**.\n",
    "\n",
    "La *variabilité* d'une mesure fait partie intégrante du processus de mesurage.\n",
    "\n",
    "Par exemple, les valeurs mesurées peuvent suivent un processus aléatoire décrit par une loi normale (=courbe de Gauss, cf figure ci-dessous).\n",
    "\n",
    "![loiSigmaSynthese](img/loiSigmaSynthese.png)\n",
    "\n",
    "**Définition de l'incertitude-type**\n",
    "\n",
    "La grandeur physique qui quantifie la *variabilité* d'une mesure d'une grandeur $x$ est appelée **incertitude-type** et est notée $u(x)$.\n",
    "\n",
    "Par définition, l'incertitude-type est l'**écart-type** de la distribution des valeurs issues des répétitions de la mesure.\n",
    "\n",
    "\n",
    "*Remarques*\n",
    "\n",
    "1/ Tout se passe comme si le résultat d'une mesure est assimilé à la réalisation d’une variable aléatoire de loi normale de moyenne $\\mu$ et d’écart type $\\sigma$.\n",
    "\n",
    "2/ Le résultat de la mesure n'est pas réductible à la connaissance de la seule valeur moyenne $\\mu$ : il est indispensable de pouvoir quantitifier la *variabilité* de la mesure et donc de pouvoir estimer l'incertitude-type $\\sigma$ associée à cette mesure.\n",
    "\n",
    "![incertitudesSchema2](img/incertitudesSchema2.png)\n",
    "\n",
    "**Représentation du résultat d'une mesure**\n",
    "\n",
    "- Le résultat d'une mesure est noté par convention $x\\pm u(x)$. \n",
    "\n",
    "- L'incertitude $u(x)$ sera donnée avec deux chiffres significatifs.\n",
    "\n",
    "- Le nombre de chiffres significatifs du résultat $x$ dépend de l'incertidude.\n",
    "\n",
    "*Exemple*\n",
    "\n",
    "Supposons que l'on mesure l'intensité d'un courant électrique $I$ avec une précision $u(I)$ de $150 \\,\\mu \\textrm{A}$. Si la valeur affichée par l'appareil est $I=97,876 \\textrm{ mA}$, on écrira pour le résultat de la mesure:\n",
    "$$I = 97,88\\pm0,15 \\textrm{ mA}$$\n",
    "\n",
    "Pour plus de clarté, on peut également écrire les deux valeurs séparément:\n",
    "\n",
    "$$I = 97,88\\textrm{ mA} \\quad \\textrm{et} \\quad  u(I) = 0,15 \\textrm{ mA}$$\n",
    "\n",
    "**Incertitude-type relative**\n",
    "\n",
    "Le quotient de l'incertitude-type $u(x)$ par la valeur mesurée $x$ représente l'incertitude \"relative\":\n",
    "$$u(x)/x$$\n",
    "\n",
    "On l'exprime également en pourcentage.\n",
    "\n",
    "*Exemple*\n",
    "\n",
    "Dans le cas précédent, l'incertitude-type relative vaut $0,15/97,88 \\approx 1,5\\,10^{-3} = 0,15 \\%$ d'erreur.\n"
   ]
  },
  {
   "cell_type": "markdown",
   "metadata": {},
   "source": [
    "# Méthodes d'estimation des incertitudes-types\n",
    "\n",
    "D’après ce qui précède, le résultat d’une mesure est assimilé à la réalisation d’une variable aléatoire de loi normale de moyenne $\\mu$ et d’écart type $\\sigma$. \n",
    "\n",
    "On cherche à évaluer les meilleurs estimateurs $\\overline{x}$ et u(x) de ces deux paramètres. Trois cas de figures se présentent :\n",
    "\n",
    "- Il est possible d'effectuer de nombreuses répétitions de la mesure et obtenir une suite de résultats $x_i$ chacun entaché d'erreurs aléatoire. On parle d'**évaluation de type A**.\n",
    "\n",
    "\n",
    "- On ne peut réaliser qu'une seule mesure (ex: longueur mesurée au mètre ruban). On va estimer l’intervalle des valeurs mesurées raisonnablement acceptables en se basant sur les informations à notre disposition (notice constructeur, certificat d’étalonnage, résolution d’un indicateur numérique, l’expérience personnelle, …). On parle d’**évaluation de type B**.\n",
    "\n",
    "\n",
    "- La grandeur dont on souhaite estimer l’incertitude n’est pas directement mesurée mais *résulte d’un calcul* mené à partir d’une ou plusieurs grandeurs mesurées. (ex : mesure de la résistance d’un conducteur ohmique à partir du rapport entre la tension à ses bornes et le courant que le traverse). On parle d’**incertitude-type composée**.\n",
    "\n"
   ]
  },
  {
   "cell_type": "markdown",
   "metadata": {},
   "source": [
    "# Estimations de type A des incertitudes-types de mesure\n",
    "\n",
    "Il s'agit d'une méthode statistique s'appuyant sur le résultat de $N$ mesures.\n",
    "\n",
    "Soit $x_1,x_2,\\ldots,x_N$, les résultats de $N$ mesures, on peut montrer que les relations:\n",
    "\n",
    "$$\\overline{x}= \\frac{1}{N} \\sum_{k=1}^{N}x_k$$\n",
    "\n",
    "et\n",
    "$$\\sigma_x=\\sqrt{\\frac{1}{N-1}\\sum_{k=1}^N \\left(x_k-\\overline{x}\\right)^2}$$\n",
    "\n",
    "fournissent les meilleurs estimateurs $\\overline{x}$ de la valeur centrale et $\\sigma_x$ de l'incertitude $u(x)$ de la mesure."
   ]
  },
  {
   "cell_type": "markdown",
   "metadata": {},
   "source": [
    "## Exercice N3 n°1 Estimation de type A (exo corrigé)\n",
    "\n",
    "Un opérateur effectue $N=12$ mesures de la durée de chute libre d’un corps lâché sans vitesse initiale à $1\\textrm{ m}$ de hauteur à l’aide d’un chronomètre à déclenchement manuel dont l’affichage est au millième de seconde.\n",
    "\n",
    "$$ \n",
    "\\begin{array}{|c|c|c|c|c|c|c|c|c|c|c|c|c|}\n",
    "\\hline \\mathrm{mesures} &1 &2 &3&4&5&6&7&8&9&10&11&12\\\\\n",
    "\\hline \\textrm{durées (s)} & 0,432 & 0,487 & 0,472& 0,452 & \n",
    " 0,454 & 0,436 & 0,492& 0,439 & 0,440 & 0,431& 0,518& 0,472 \\\\\n",
    "\\hline\n",
    "\\end{array}\n",
    "$$\n",
    "\n",
    "**Questions**\n",
    "\n",
    "a) Déterminer la moyenne de ces mesures et calculer l'incertitude-type associée.\n",
    "\n",
    "b) Afficher le résultat de la mesure de la durée $\\Delta t$ de chute avec les nombres corrects de chiffres significatifs."
   ]
  },
  {
   "cell_type": "markdown",
   "metadata": {},
   "source": [
    "**Correction**"
   ]
  },
  {
   "cell_type": "code",
   "execution_count": 6,
   "metadata": {},
   "outputs": [
    {
     "name": "stdout",
     "output_type": "stream",
     "text": [
      " Estimateurs : moyenne =  0.4605282183333334  s  écart-type =  0.027893338002511647\n"
     ]
    }
   ],
   "source": [
    "import numpy as np # import du module Numpy\n",
    "## Saisie des données\n",
    "xi = np.array([0.43174438, 0.48738268, 0.47292349, 0.4519076 , 0.4545177 ,\n",
    "       0.43610964, 0.49176257, 0.4397923 , 0.4395974 , 0.43050934,\n",
    "       0.51763649, 0.47245503])\n",
    "print(\" Estimateurs : moyenne = \",np.mean(xi),  # calcul de la moyenne\n",
    "      ' s  écart-type = ',np.std(xi,ddof = 1))  # calcul de l'écart-type avec le paramètre ddof = 1"
   ]
  },
  {
   "cell_type": "markdown",
   "metadata": {},
   "source": [
    "D'après l'étude statistique, la durée $\\Delta t$ de chute est\n",
    "$$\\Delta t= 0,461 \\textrm{ s} \\quad \\textrm{ (résultat arrondi à la milliseconde)}$$\n",
    "avec \n",
    "$$u(t) = 0,028\\textrm{ s} \\quad \\textrm{ (deux chiffres significatifs sur l'incertitude-type)}$$"
   ]
  },
  {
   "cell_type": "markdown",
   "metadata": {},
   "source": [
    "# Estimations de type B des incertitudes-types de mesure\n",
    "\n",
    "C'est le cas lorsque que l'on dispose d'une mesure unique ou / et que l'on est dans l'incapacité d'effectuer des répétitions de la mesure.\n",
    "\n",
    "Il faut évaluer la **plage de valeurs mesurées raisonnablement acceptables** (c’est-à-dire dans laquelle la mesure se situe manifestement). Pour cela, on peut avoir besoin de la notice des appareils.\n",
    "\n",
    "## Précision $\\Delta$ d'un mesurage\n",
    "\n",
    "On appelle **précision** d'un mesurage (ou d'un instrument de mesure) **la demi-largeur $\\Delta$ de l'intervalle de valeurs** dans lequel on peut raisonnablement indiquer que la mesure se situe.\n",
    "\n",
    "*Exemples*\n",
    "\n",
    "1. Avec une règle graduée au mm, on mesure une longueur $L=157 \\textrm{ mm}$. La précision de la mesure avec cette règle vaut $\\Delta= 0,5 \\textrm{ mm}$.\n",
    "\n",
    "\n",
    "2. Sur la notice d’un multimètre, multimètre numérique, utilisé en voltmètre AC+DC, sur le calibre $1 \\textrm{ V}$, la notice indique : « accuracy 0.3%rdg + 4digits ». La précision est donc de 0,3% de la valeur lue auquel on ajoute 3 fois la valeur de la plus faible décimale affichée.\n",
    "\n",
    "  Ainsi, si on lit pour la tension  $U=231,25 \\textrm{ mV}$, \n",
    "\n",
    " la précision de la mesure avec cet appareil vaut\n",
    "$$\\Delta =231,25 \\times 0.003 + 0,04 =0,693 + 0,04=0,72 \\textrm{ mV}$$\n",
    "\n",
    "\n",
    "3. Sur un vernier micrométrique au 1/50e de millimètre (soit 20 micromètres), la précision peut être de l’ordre de la cinquantaine de micromètre notamment parce que la lecture du vernier « à la graduation » près n’est pas toujours possible. On peut donc choisir $\\Delta = 50 \\,\\mu \\textrm{m}$.\n",
    "\n",
    "*Remarques*\n",
    "\n",
    "L'évaluation de la précision peut relever d'un choix arbitraire qui dépend de l'expérimentateur. Dans ce cas, il importe de **bien préciser le choix qui fait** quant à la plage de valeurs acceptables pour la mesure.\n",
    "\n",
    "> Ex : \"Avec ce pied à coulisse, je considère que la plage de valeurs acceptables est de largeur 0,1$\\textrm{ mm}$. Donc $\\Delta = \\textrm{0,1 / 2} =0,05\\textrm{ mm}$.\n"
   ]
  },
  {
   "cell_type": "markdown",
   "metadata": {},
   "source": [
    "## Lien entre incertitude-type et précision\n",
    "\n",
    "*Résultat (admis)*:  Si on considère que la valeur mesurée est répartie uniformément sur un intervalle de largeur $2\\Delta$, alors l’évaluation de type B de l’incertitude-type est \n",
    "\n",
    "$$u(s)=\\frac{\\Delta}{\\sqrt{3}}$$\n",
    "\n",
    "Note : le facteur $\\sqrt{3}$ est issu d'une norme internationale.\n",
    "\n"
   ]
  },
  {
   "cell_type": "markdown",
   "metadata": {},
   "source": [
    "## Exercice N3 n°2 Estimation de type B (exo corrigé)\n",
    "\n",
    "a) Evaluer l'incertitude-type pour les deux premiers exemples précédents (règle graduée, et multimètre numérique.\n",
    "\n",
    "b) Donner le résultat de la mesure."
   ]
  },
  {
   "cell_type": "markdown",
   "metadata": {},
   "source": [
    "**Correction**\n",
    "\n",
    "Il suffit de diviser la demi-largeur de valeurs acceptables par $\\sqrt{3}$.\n",
    "\n",
    "1. **Mesure à la règle graduée**\n",
    "\n",
    "  Pour la règle graduée au millimètre: $\\Delta = \\textrm{ 0,5 mm}$, l'incertitude-type sur la longueur $L$ est donc $$u(L)=\\textrm{0,5}/\\sqrt{3}\\approx 0,29 \\textrm{ mm}$$\n",
    "\n",
    "  Le résultat de cette mesure est donc \n",
    "$$L = 157,0\\textrm{ mm} \\quad \\textrm{ avec} \\quad u(L) = 0,29 \\textrm{ mm}$$\n",
    "\n",
    "\n",
    "2. **Mesure au multimètre numérique**\n",
    "\n",
    "  Pour la multimètre : $\\Delta = \\textrm{ 0,72 mV}$, l'incertitude-type sur la tension $U$ est donc $$u(U)=\\textrm{0,72}/\\sqrt{3}\\approx 0,42 \\textrm{ mV}$$\n",
    "\n",
    "  Le résultat de cette mesure est donc \n",
    "$$U = \\textrm{ 231,25 V} \\quad \\textrm{ avec} \\quad u(U) = 0,42 \\textrm{ V}$$"
   ]
  },
  {
   "cell_type": "markdown",
   "metadata": {},
   "source": [
    "## Exercice N3 n°3 Utilisation d'un vernier micrométrique (exo corrigé)\n",
    "\n",
    "a) Déterminer le résultat de la mesure de position avec son incertitude (cf figure ci-dessous).\n",
    "\n",
    "![vernierMicrometrique3](img/vernierMicrometrique3.png)"
   ]
  },
  {
   "cell_type": "markdown",
   "metadata": {},
   "source": [
    "**Correction**\n",
    "\n",
    "Méthode de lecture du vernier \n",
    "\n",
    "1. On commence par la lire la valeur approximative en millimètre sur le repère principal (graduations veticales en bleues ci-dessous). On voit que la valeur est comprise entre $\\textrm{5,5 mm}$ et $\\textrm{6 mm}$.\n",
    "\n",
    "![vernier1](img/vernier1bis.png)\n"
   ]
  },
  {
   "cell_type": "markdown",
   "metadata": {},
   "source": [
    "2. On lit ensuite les graduations horizontales de droite au centième de millimètre (en vert ci-dessous). Il y a 50 graduations réparties sur un tour. Un tour correspond à un demi-millimètre. La valeur lue est comprise en 28 et 29. On ajoute donc $\\textrm{0,28 mm}$ à la valeur précédente.\n",
    "\n",
    "  A ce stade, le résultat de mesure est donc compris entre $\\textrm{5,78 mm}$ et $\\textrm{5,79 mm}$.\n",
    "![vernier1](img/vernier2bis.png)"
   ]
  },
  {
   "cell_type": "markdown",
   "metadata": {},
   "source": [
    "3. Enfin, on utilise les dix graduations verticales de gauche (en rouge ci-dessous) : le but est de faire correspondre les traits verts (à droite) avec traits rouges (à gauche). \n",
    "\n",
    "  On constate que les traits qui sont \"le plus en face l'un de l'autre\" correspondent aux graduations 2 et 3.\n",
    "  \n",
    "  On peut **prendre la valeur 2,5** ce qui signifie que, parmi les *dix* graduations qui découpent le centième de millimètre, on ajoute $0,25$ centième de millimètre.\n",
    "  \n",
    " ![vernier3bis](img/vernier3bis.png)\n",
    "\n",
    "Conclusion : la valeur lue est donc $x = \\textrm{5,7825 mm}$.\n",
    "\n",
    "*Evaluation de l'incertitude de type B*\n",
    "\n",
    "On peut considérer que la **plage de valeurs acceptables** est de $2$ graduations. Or, le vernier comporte 10 graduations pour un centième de millimètre. La précision est donc \n",
    "$$\\Delta = \\frac{2/10 \\times \\textrm{ 0,01 mm}}{2}=\\textrm{0,001 mm}$$.\n",
    "\n",
    "L'incertitude-type s'obtient en divisant la demi-largeur de la plage de valeurs acceptables par $\\sqrt{3}$\n",
    "$$u(x) = \\frac{\\textrm{0,001 mm}}{\\sqrt{3}}\\approx 0,58 \\,\\mu \\textrm{m}$$\n",
    "\n",
    "On peut écrire:\n",
    "$$x = \\textrm{5,7825 mm} \\pm 0,58 \\,\\mu \\textrm{m}$$"
   ]
  },
  {
   "cell_type": "markdown",
   "metadata": {},
   "source": [
    "Remarque\n",
    "\n",
    "- Le terme « **précision de la mesure** » est très ambigu du point du vue métrologique bien que, dans l’usage courant, dire qu’une mesure est précise signifie que son incertitude-type est faible et que l’erreur de mesure est faible. Les termes métrologiques corrects sont l’*exactitude du mesurage* et la *précision d’un appareil*."
   ]
  },
  {
   "cell_type": "markdown",
   "metadata": {},
   "source": [
    "# Estimations \"de type C\" des incertitudes-types de mesure : composition\n",
    "\n",
    "*Exemples*\n",
    "\n",
    "1. On mesure la résistance $R$ d’un dipôle à l’aide du rapport $R=U/I$ de la tension à ses bornes et de l’intensité du courant qui le parcourt. Les incertitudes sur les grandeurs $U$ et $I$ engendrent ainsi des incertitudes sur la valeur de la résistance $R$ qui découle du calcul\n",
    "\n",
    "\n",
    "2. On mesure la distance $d$ entre deux positions d’une lentille sur un banc optique. Les positions étant repérées par leurs abscisses $x_1$ et $x_2$ sur un rail gradué au millimètre (cf figure ci-dessous). La distance s'obtient par la relation \n",
    "$$d=x_2-x_1$$\n",
    "\n",
    "![railOptique](img/railOptique.png)\n",
    "\n",
    "  Les incertitudes sur les grandeurs $x_1$ et $x_2$ engendrent ainsi des incertitudes sur la valeur de la distance $d$ qui découle du calcul.\n",
    "\n",
    "## Propagation des incertitudes-types\n",
    "\n",
    "Envisageons deux cas particulier de type somme ou produit.\n",
    "\n",
    "### Incertitudes-type composé de type \"somme\"\n",
    "\n",
    "*Propriété (admise)*: Si on calcule $y(x_1,x_2) = \\alpha x_1 + \\beta x_2$ avec $x_1$, $x_2$ des grandeurs mesurées d'incertitudes-types $u(x_1)$, $u(x_2)$ et $\\alpha$, $\\beta$ des constantes alors l'incertitude-type de $y$ résultant des variabilités des grandeurs $x_1$, $x_2$ est donnée par\n",
    "$$u(y)=\\sqrt{(\\alpha u(x_1))^2+(\\beta u(x_2))^2 }$$\n",
    "\n",
    "### Exercice N3 n°4 Mesure d'une distance sur un banc d'optique (exo corrigé)\n",
    "\n",
    "$x_1$ et $x_2$ sont les positions repérées sur un rail gradué dont la précision $\\Delta$ est estimée à $\\textrm{1 mm}$.\n",
    "\n",
    "a) Déterminer la distance $d$ sépérant les deux positions $x_1=\\textrm{23, 7 mm}$ et $x_2 =\\textrm{44,8 mm}$ avec l'incertitude de cette mesure."
   ]
  },
  {
   "cell_type": "markdown",
   "metadata": {},
   "source": [
    "**Correction**\n",
    "\n",
    "La distance $d$ est donnée par la différence entre les deux mesures $x_1$ et $x_2$\n",
    "$$d=x_2-x_1$$\n",
    "Il s'agit donc d'une estimation d'incertitude-type de type composé.\n",
    "\n",
    "- incertitudes-types sur les mesures $u(x_1)=u(x_2)=\\Delta /\\sqrt{3}=\\textrm{0,58 mm}$.\n",
    "- Propagation des incertitudes : $d=x_2-x_1$, on applique la formule générale avec les coefficients constants $\\alpha =1$ et $\\beta =-1$, il vient:\n",
    "\n",
    "$$u(d)=\\sqrt{\\left(\\alpha u(x_1) \\right)^2+ \\left(\\beta u(x_2) \\right)^2}$$\n",
    "\n",
    "soit $$u(d)=\\sqrt{(1\\times0,58)^2+(1\\times0,58)^2} = \\sqrt{2}\\times0,58 =\\textrm{0,82 mm}$$\n",
    "\n",
    "- La distance $d$ vaut donc\n",
    "$$d = x_2-x_1 = \\textrm{21,1 mm} \\quad \\textrm{avec} \\quad u(d) =\\textrm{0,82 mm}$$"
   ]
  },
  {
   "cell_type": "code",
   "execution_count": 68,
   "metadata": {},
   "outputs": [
    {
     "name": "stdout",
     "output_type": "stream",
     "text": [
      "d =  21.099999999999998  u_d =  0.8164965809277261\n"
     ]
    }
   ],
   "source": [
    "## Feuille de calcul O3 n°4\n",
    "x1, x2 = 23.7, 44.8 # mm\n",
    "delta_x = 1 # mm\n",
    "u_x1 =  delta_x/3**(0.5) # division par racine carré de 3\n",
    "u_x2 =  delta_x/3**(0.5) # division par racine carré de 3\n",
    "\n",
    "## Calcul de la distance\n",
    "d = x2 - x1\n",
    "\n",
    "## Propagation des incertitudes-types : somme ou différence\n",
    "u_d = ( u_x1**2+ u_x2**2 ) **(0.5) # formule de type \"Pythagore\"\n",
    "\n",
    "print(\"d = \",d,\" u_d = \",u_d)\n"
   ]
  },
  {
   "cell_type": "markdown",
   "metadata": {},
   "source": [
    "### Incertitudes-type composé de type \"produit\"\n",
    "\n",
    "*Propriété (admise)*: Si on calcule $y(x_1,x_2) = a x_1^\\alpha  \\beta x_2^\\beta$ avec $x_1$, $x_2$ des grandeurs mesurées d'incertitudes-types $u(x_1)$, $u(x_2)$ et $a$, $\\alpha$, $\\beta$ des constantes alors l'incertitude-type de $y$ résultant des variabilités des grandeurs $x_1$, $x_2$ est donnée par\n",
    "$$\\frac{u(y)}{y}=\\sqrt{\\left(\\alpha \\frac{u(x_1)}{x_1}\\right)^2+\\left(\\beta \\frac{u(x_2)}{x_2}\\right)^2 }$$\n",
    "\n",
    "*Remarques*\n",
    "\n",
    "- cas d'un produit : si $y=x_1x_2$ alors, comme $\\alpha =1$, $\\beta=1$, il vient:\n",
    "$$\\frac{u(y)}{y} = \\sqrt{\\left(\\frac{u(x_1)}{x_1}\\right)^2+\\left(\\frac{u(x_2)}{x_2}\\right)^2}$$\n",
    "\n",
    "- cas d'un quotient : si $y=x_1/x_2$ alors, comme $\\alpha =1$, $\\beta=-1$, il vient:\n",
    "$$\\frac{u(y)}{y} = \\sqrt{\\left(\\frac{u(x_1)}{x_1}\\right)^2+\\left(\\frac{u(x_2)}{x_2}\\right)^2}$$"
   ]
  },
  {
   "cell_type": "markdown",
   "metadata": {},
   "source": [
    "### Exercice N3 n°5 Mesure d'une résistance par méthode voltampèremétrique (exo corrigé)\n",
    "\n",
    "On mesure la résistance $R$ d'un résistor à l'aide du rapport entre la tension $U$ à ses bornes et l'intensité $I$ du courant qui le traverse.\n",
    "\n",
    "Les grandeurs mesurées sont les suivantes (données avec leurs écarts-types):\n",
    "\n",
    "- $U=\\textrm{1,45 } \\pm \\textrm{0,02 V}$\n",
    "- $I=\\textrm{1,468 } \\pm \\textrm{0,025 mA}$\n",
    "\n",
    "\n",
    "a) Déterminer la valeur $R$ de ce résistor avec l'incertitude de cette mesure."
   ]
  },
  {
   "cell_type": "markdown",
   "metadata": {},
   "source": [
    "**Correction**\n",
    "\n",
    "La résistance $R$ est donnée par le quotient entre les deux mesures $U$ et $I$\n",
    "$$R=\\frac{U}{I}$$\n",
    "Il s'agit donc d'une estimation d'incertitude-type de type composé.\n",
    "\n",
    "- La valeur de la résistance est $R=1,45/1,468 \\, 10^{-3} =987,738 \\, \\Omega$. A ce stade, on garde volontairement un grand nombre de chiffres significatifs : ces chiffres vont servir pour le calcul mais seront retirés pour la présentation du résultat final pour rester en accord avec la précision de la mesure.\n",
    "\n",
    "- L'incertitude-type relative sur $R$, $u(R)/R$ se calcule par la formule de propagation des incertitudes-types:\n",
    "$$\\frac{u(R)}{R}=\\sqrt{\\left(\\frac{u(U)}{U}\\right)^2+\\left(\\frac{u(I)}{I}\\right)^2}$$\n",
    "\n",
    "soit\n",
    "$$\\frac{u(R)}{R}=\\sqrt{\\left(\\frac{0,02}{1,45}\\right)^2+\\left(\\frac{0,025}{1,468}\\right)^2} = 0,0219$$\n",
    "\n",
    "- L'incertitude-type absolue se déduit en multipliant cette dernière valeur par $R$:\n",
    "$$u(R) = \\textrm{0,021}\\times 987,738 = 21,64 \\,\\Omega$$\n",
    "\n",
    "*Affichage du résultat de la mesure*\n",
    "\n",
    "Attention aux chiffres significatifs\n",
    "\n",
    "- on ne garde que deux chiffres significatifs pour l'incertitude-type, soit $u(R)=22 \\, \\Omega$ (arrondi au plus proche).\n",
    "- on garde un nombre de chiffres compatibles avec l'incertitude-type, ici le chiffre d'incertitude-type le plus petit est celui des ohms. En conséquence, l'affichage du résultat se fait \"à l'ohm près\" (à la rigueur à la dizaine d'ohms près).\n",
    "\n",
    "La valeur de résistance est donc \n",
    "$$R = 988 \\pm \\textrm{ 22} \\, \\Omega$$"
   ]
  },
  {
   "cell_type": "code",
   "execution_count": 69,
   "metadata": {},
   "outputs": [
    {
     "name": "stdout",
     "output_type": "stream",
     "text": [
      "987.7384196185286 0.02191505589019081 21.646342670828798\n"
     ]
    }
   ],
   "source": [
    "## Feuille de calcul O3 n°5\n",
    "U, I = 1.45, 1.468 # V , mA\n",
    "R = U/I*1e3 # en Ohm\n",
    "uR_R = ( (0.02/1.45)**2 + (0.025/1.468)**2)**(0.5) # incertitude relative\n",
    "uR = R*uR_R       # incertitude absolue\n",
    "print(R,uR_R, uR) # affichage des valeurs"
   ]
  },
  {
   "cell_type": "markdown",
   "metadata": {},
   "source": [
    "# Propagation des incertitudes - cas général : la simulation numérique\n",
    "\n",
    "Lorsque qu'une grandeur $y(x_1,x_2,\\ldots,x_k)$ dépend de plusieurs grandeurs mesurées  et dont les incertitudes-types $u(x_1)$, $u(x_2)$,...,  $u(x_k)$ sont connues alors la grandeur $y$ découlant du calcul à partir des $x_i$ possède également sa propre *variabilité* dont l'on peut quantifier la dispersion par l'incertitude-type $u(y)$.\n",
    "\n",
    "La **méthode générale** est de recourir à une simulation numérique au cours de laquelle on effectue des tirages des grandeurs $x_i$ selon une distribution statistique (ex : normale ou uniforme) et de calculer pour chaque jeu des valeurs $\\{x_i\\}$ la valeur $y_i$ correspondante. La variabilité de $y$ s'obtient en prenant l'écart-type des $yi$. \n",
    "\n",
    "En Python, cette simulation s'obtient par les instructions suivantes:\n",
    "\n",
    "``` \n",
    "N = 50000 # nb d'échantillons\n",
    "x1i = np.random.normale(x1, u_x1, N) # tirage selon une loi normale\n",
    "x2i = np.random.uniform(x2-delta_x2,x2 + delta_x2, N) # tirage selon une loi uniforme\n",
    "yi = ... # expression de yi en fonction des x1i, x2i, ...\n",
    "y_moy = np.mean(yi) # valeur centrale = moyenne\n",
    "y_sigma = np.std(yi,ddof = 1) # estimateur non biaisé de l'écart-type\n",
    "```\n",
    "\n",
    "Remarque: on peut également visualiser la distribution des $y_i$ en traçant un histogramme."
   ]
  },
  {
   "cell_type": "markdown",
   "metadata": {},
   "source": [
    "## Simulation d'incertitudes (1) : mesure de distance sur un rail millimétré\n",
    "\n",
    "Les données sont les mêmes que dans l'exercice **O3 n°4**\n",
    "\n",
    "$x_1$ et $x_2$ sont les positions repérées sur un rail gradué dont la précision $\\Delta_x$ est estimée à $\\textrm{1 mm}$.\n",
    "\n",
    "a) Déterminer la distance $d$ sépérant les deux positions $x_1=\\textrm{23, 7 mm}$ et $x_2 =\\textrm{44,8 mm}$ avec l'incertitude de cette mesure.\n"
   ]
  },
  {
   "cell_type": "markdown",
   "metadata": {},
   "source": [
    "**Hypothèse du tirage aléatoire**\n",
    "\n",
    "On va supposer que les grandeurs $x_1$ et $x_2$ sont aléatoirement distribuées sur des intervalles \n",
    "\n",
    "$$I_1=[\\,\\overline{x_1}-\\Delta_x \\, ;  \\, \\overline{x_1} +\\Delta_x]$$\n",
    "et $$I_2=[\\,\\overline{x_2}-\\Delta_x\\, ;\\, \\overline{x_2} +\\Delta_x]$$\n",
    "\n",
    "**Génération des jeux de $N$ valeurs**\n",
    "\n",
    "On utilise la fonction ```random.uniform(a,b,N)``` du module Numpy."
   ]
  },
  {
   "cell_type": "code",
   "execution_count": 70,
   "metadata": {},
   "outputs": [
    {
     "name": "stdout",
     "output_type": "stream",
     "text": [
      "d_moy =  21.098610650127586  mm d_sigma =  0.81677473030625  mm\n"
     ]
    }
   ],
   "source": [
    "import numpy as np # import du module numpy\n",
    "\n",
    "## Valeur numériques \n",
    "x1, x2 = 23.7 , 44.8 # mm\n",
    "deltax = 1 # mm\n",
    "\n",
    "## Simulation des tirages aléatoires selon des lois uniformes\n",
    "N = 50000 # nb de tirages\n",
    "x1i = np.random.uniform(x1 - deltax, x1 + deltax, N) # 1ère variable\n",
    "x2i = np.random.uniform(x2 - deltax, x2 + deltax, N) # 2ème variable\n",
    "\n",
    "## Calcul de la distance\n",
    "di = x2i - x1i # toutes ces variables sont des tableaux Numpy\n",
    "\n",
    "## Estimations statistiques\n",
    "d_moy = np.mean(di) # moyenne\n",
    "d_sigma = np.std(di, ddof = 1) # écart-type\n",
    "\n",
    "print(\"d_moy = \",d_moy , \" mm d_sigma = \",d_sigma,\" mm\") # affichage avec les unités\n"
   ]
  },
  {
   "cell_type": "markdown",
   "metadata": {},
   "source": [
    "**Conclusion :** On retrouve le même résultat que par la formule de propagation d'erreurs: $$d = 21,1 \\pm \\textrm{ 0,82} \\, \\textrm{mm}$$"
   ]
  },
  {
   "cell_type": "markdown",
   "metadata": {},
   "source": [
    "## Exercice N3 n°6 Progapation des incertitudes dans un calcul (exo corrigé)\n",
    "\n",
    "Un étudiant mesure un angle à l'aide d'un rapporteur gradué au degré. Il note \"$\\alpha = 87°$  à 1 degré près\".\n",
    "\n",
    "a) Quelle est la précision $\\Delta_\\alpha$ de la mesure de l'angle ?\n",
    "\n",
    "b) Quelle est l'incertitude-type $u(\\alpha)$ sur l'angle ?\n",
    "\n",
    "c) Simuler numériquement les valeurs de l'angle $\\alpha$ en utilisant une loi de distribution adaptée (uniforme ou normale). On justifiera.\n",
    "\n",
    "d) En déduire l'incertitude-type $$u(\\sin(\\alpha))$$ sur la valeur du sinus de l'angle $\\sin(\\alpha)$, tracer l'histogramme des valeurs de sinus et donner le résultat sur la mesure de $\\sin(\\alpha)$ avec le nombre correct de chiffres significatifs.\n",
    "\n",
    "e) Quelle remarque peut-on faire quant aux nombres de chiffres significatifs du sinus ?"
   ]
  },
  {
   "cell_type": "markdown",
   "metadata": {},
   "source": [
    "**Correction**\n",
    "\n",
    "a) On peut considérer que l'angle est connu à 1° degré près signifie que la plage de valeurs acceptables est de $\\pm 1°$. Ainsi, la précision angulaire est $\\Delta_\\alpha=1°$. Ce choix est subjetif : on aurait éventuellement prendre une valeur deux fois plus faible !).\n",
    "\n",
    "b) L'incertitude-type est égale à la précision divisée par racine carré de 3 : \n",
    "\n",
    "$$u(\\alpha) = \\Delta_\\alpha/\\sqrt{3}=0,58°$$"
   ]
  },
  {
   "cell_type": "code",
   "execution_count": 71,
   "metadata": {},
   "outputs": [
    {
     "name": "stdout",
     "output_type": "stream",
     "text": [
      "sin_alpha =  0.9985794050222141  incertitude-type =  0.0005294301957803587\n"
     ]
    },
    {
     "data": {
      "image/png": "[encoded data removed]",
      "text/plain": [
       "<Figure size 432x288 with 1 Axes>"
      ]
     },
     "metadata": {
      "needs_background": "light"
     },
     "output_type": "display_data"
    }
   ],
   "source": [
    "import matplotlib.pyplot as plt # pour le tracé de l'histogramme\n",
    "\n",
    "## c) simulation des tirages de l'angle alpha\n",
    "N = 10**6 # grand nombre de tirages\n",
    "alphai = np.random.uniform(86,88,N) # valeurs uniformément réparties dans l'intervalle [86 ; 88] \n",
    "                                    # car toute les valeurs appartenant à la plage de valeurs \n",
    "                                    # acceptables sont équiprobables\n",
    "        \n",
    "## d) incertitudes-types et histogramme des valeurs et \n",
    "sin_alpha = np.sin(alphai*np.pi/180) # calcul du sinus ATTENTION à la conversion en radians\n",
    "moy_sin = np.mean(sin_alpha) # moyenne\n",
    "sigma_sin = np.std(sin_alpha, ddof =1) # écart-type\n",
    "plt.hist(sin_alpha, bins = 'rice') # tracé de l'histogramme des sinus\n",
    "plt.xlabel(\"valeur du sinus\")\n",
    "plt.ylabel(\"Fréquence d'apparition\")\n",
    "\n",
    "print(\"sin_alpha = \", moy_sin, \" incertitude-type = \", sigma_sin) # affichage des résultats"
   ]
  },
  {
   "cell_type": "markdown",
   "metadata": {},
   "source": [
    "On constate que l'incertitude-type sur le sinus est $u(\\sin(\\alpha)) = \\textrm{0,00053}$.\n",
    "\n",
    "Cette valeur est très faible et nous oblige à garder **4 chiffres significatifs** sur la valeur du sinus.\n",
    "\n",
    "$$\\sin(\\alpha) = 0,9986 \\quad \\textrm{avec} \\quad u(\\sin(\\alpha)) = \\textrm{0,00053}$$\n",
    "\n",
    "e) Le nombre de chiffres significatifs du résultat (ici 4 chiffres) est plus important que le nombre de chiffres significatifs de la grandeur initiale $\\alpha$ (connu avec 2 chiffres). \n",
    "\n",
    "Cela peut paraître surprenant! Cela découle de la non-linéarité de la fonction sinus et de la valeur d'angle $\\alpha$ proche de 90°."
   ]
  },
  {
   "cell_type": "markdown",
   "metadata": {},
   "source": [
    "<center><FONT size=\"6pt\" color=firebrick> Exercices d'entraînement </FONT></center>\n",
    "\n",
    "## Exercice N3 n°7 Utilisation d'un vernier micrométrique (à chercher)\n",
    "\n",
    "Déterminer le résultat de la mesure de position avec son incertitude (cf figure ci-dessous).\n",
    "\n",
    "![vernier4](img/vernier4.png)\n"
   ]
  },
  {
   "cell_type": "markdown",
   "metadata": {},
   "source": [
    "## Exercice N3 n°8 Progapation des incertitudes dans un calcul  (à chercher)\n",
    "\n",
    "Pour déterminer la dose d’un traitement à appliquer à son patient, un médecin doit \n",
    "déterminer le volume d’une tumeur. Pour cela, il fait passer une IRM à son patient et \n",
    "observe sur l’image une tache de 12 mm de long, 6 mm de large et 3 mm d’épaisseur. \n",
    "Chaque distance est déterminée avec une incertitude de 10 %. \n",
    "\n",
    "a) En estimant que de la tumeur occupe 60 % du volume du parallélépipède ayant les \n",
    "dimensions indiquées ci-dessus, quelle est le volume de la tumeur avec son incertitude-type ?\n",
    "\n",
    "b) Calculer l'incertitude-type relative, $u(V)/V$ sur le volume de cette tumeur.\n",
    "\n",
    "*Notes* : \n",
    "\n",
    "- Quand on dit que les distances sont déterminées \"à 10 %\", on supposera qu'il s'agit d'une distribution uniforme à $\\pm 10\\%$ de la valeur mesurée.\n",
    "\n",
    "On proposera deux méthodes : \n",
    "- La première basée sur une simulation numériques consistant à tirer trois variables aléatoires ``long``, ``larg``, ``epais`` et à effectuer l'analyse statistique des données. \n",
    "\n",
    "- La seconde utilisant les lois de composition dans le cas du produit $$y(x_1,x_2,x_3)=ax_1x_2x_3$$ pour lequel la formule théorique est \n",
    "$$\\frac{u(y)}{y} = \\sqrt{\\left(\\frac{u(x_1)}{x_1}\\right)^2+\\left(\\frac{u(x_2)}{x_2}\\right)^2+\\left(\\frac{u(x_3)}{x_3}\\right)^2}$$"
   ]
  },
  {
   "cell_type": "markdown",
   "metadata": {},
   "source": [
    "## Exercice N3 n°9 masse surfacique d'une feuille de papier (à chercher)\n",
    "\n",
    "Un étudiant chercher à déterminer la masse surfacique d'une feuille de papier.\n",
    "\n",
    "Il mesure sa longueur et sa largeur au pied à coulisse (au 1/10e de millimètre). Il trouve $29,70 \\textrm{ cm}$ et $21,00 \\textrm{ cm}$.\n",
    "\n",
    "A l'aide d'une balance, il lit la valeur $m = 5,0 \\textrm{ g}$ à $\\textrm{0,1 g}$ près. La précision de la balance est « accuracy 0.8%rdg + 2digits ».\n",
    "\n",
    "a) Calculer la masse surfacique (en $\\textrm{kg.m}^{-2}$), notée $\\sigma$, de cette feuille et déterminer son incertitude-type $u(\\sigma)$. On précisera les hypothèses effectuées.\n",
    "\n",
    "b) Il recommence en pesant cette fois la masse de 10 feuilles. Sur la même balance, il lit $m = 249.6 \\textrm{ g}$\n",
    "\n",
    "c) Son professeur lui suggère de pèser directement une ramette de 500 feuilles. Sur la même balance, il lit $m = 2494.2 \\textrm{ g}$. En déduire la masse surfacique à l'aide de cette seconde mesure.\n",
    "\n",
    "d) Conclure en comparant la précision des trois modes opératoires.\n",
    "\n",
    "**Note:**\n",
    "\n",
    "- L'exercice peut être résolu de deux manières (par les formules de propagation d'erreur ou par simulation numérique). On demande de faire, *a minima*, la simulation numérique."
   ]
  }
 ],
 "metadata": {
  "kernelspec": {
   "display_name": "Python 3",
   "language": "python",
   "name": "python3"
  },
  "language_info": {
   "codemirror_mode": {
    "name": "ipython",
    "version": 3
   },
   "file_extension": ".py",
   "mimetype": "text/x-python",
   "name": "python",
   "nbconvert_exporter": "python",
   "pygments_lexer": "ipython3",
   "version": "3.7.6"
  }
 },
 "nbformat": 4,
 "nbformat_minor": 4
}
