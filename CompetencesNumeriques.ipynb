{
 "cells": [
  {
   "cell_type": "markdown",
   "metadata": {},
   "source": [
    "# NumpyLaMerci\n",
    "\n",
    "\n",
    "Vous trouverez des cours, exercices résolus et exercices d'entrainement sur les principales compétences numériques en CPGE, 1ère année:\n",
    "\n",
    "- <a href=\"OutilsGraphiques/NumpyGraph_1.ipynb\" target=\"_blank\">Outils graphiques Numpy_1</a> (nuage de points, tracé de fonction, courbe paramétrée)\n",
    "\n",
    "- <a href=\"OutilsStatistiques/NumpyStatistiques_2.ipynb\" target=\"_blank\">Outils statistiques Numpy_2</a> (simulation de variables aléatoires, tracé d'histogramme, régression linéaire)\n",
    "\n",
    "- <a href=\"OutilsStatistiques/NumpyIncertitudes.ipynb\" target=\"_blank\">Estimation des incertitudes </a> (répétabilité, estimation de type B, composition)\n",
    "\n",
    "\n",
    "\n"
   ]
  },
  {
   "cell_type": "markdown",
   "metadata": {},
   "source": []
  }
 ],
 "metadata": {
  "kernelspec": {
   "display_name": "Python 3",
   "language": "python",
   "name": "python3"
  },
  "language_info": {
   "codemirror_mode": {
    "name": "ipython",
    "version": 3
   },
   "file_extension": ".py",
   "mimetype": "text/x-python",
   "name": "python",
   "nbconvert_exporter": "python",
   "pygments_lexer": "ipython3",
   "version": "3.7.6"
  }
 },
 "nbformat": 4,
 "nbformat_minor": 4
}
