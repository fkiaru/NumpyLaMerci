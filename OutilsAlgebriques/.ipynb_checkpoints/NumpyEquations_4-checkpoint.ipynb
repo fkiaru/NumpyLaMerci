{
 "cells": [
  {
   "cell_type": "markdown",
   "metadata": {},
   "source": [
    "<center><FONT size=\"6pt\" color=firebrick> Résoudre une équation algébrique </FONT></center>\n",
    "<img src=\"img/extraitProgramme.png\" width=\"800\">\n"
   ]
  },
  {
   "cell_type": "markdown",
   "metadata": {},
   "source": [
    "**Ingénierie numérique**\n",
    "\n",
    "On s'intéresse à l'utilisation de la bibliothèque Numpy pour répondre à des problèmes très courants de l'ingénierie ou la recherche en général. Pour mettre en oeuvre de ces **méthodes numériques**, nous avons besoin d'importer la bibliothèque Numpy et Matplotlib.pyplot."
   ]
  },
  {
   "cell_type": "code",
   "execution_count": null,
   "metadata": {},
   "outputs": [],
   "source": [
    "import matplotlib.pyplot as plt # import des modules\n",
    "import numpy as np"
   ]
  },
  {
   "cell_type": "markdown",
   "metadata": {},
   "source": [
    "# Objectif : résolution une équation non linéaire à une inconnue\n",
    "\n",
    "Nous souhaitons résoudre une équation dans laquelle l'inconnue est un nombre réel $x$ dont la solution est supposée exister et être unique sur un intervalle $I\\subset\\mathbb{R}$.\n",
    "\n",
    "*Remarque préliminaire*\n",
    "\n",
    "> Toute équation de la forme $$\\mathscr{l}(x)=\\mathscr{r}(x)$$ \n",
    ">\n",
    ">  peut se ramener à la **recherche du zéro**  de la fonction $f: x \\mapsto  \\mathscr{l}(x)-\\mathscr{r}(x)$."
   ]
  },
  {
   "cell_type": "markdown",
   "metadata": {},
   "source": [
    "# Recherche des zéros d'une fonction\n",
    "\n",
    "**Problématique :**\n",
    "\n",
    "Soit $f$ une fonction numérique ($\\mathbb{R} \\to \\mathbb{R}$) **continue** et **strictement monotone** sur l'intervalle $I=[ a \\quad b ]$ et telle que $f(a)$ et $f(b)$ soient non nuls et de signes opposés, c'est-à-dire tels que :\n",
    "\n",
    "$$f(a)\\times f(b) <0$$\n",
    "\n",
    "alors l'équation\n",
    "$$f(x)=0 $$ admet une unique solution sur l'intervalle $I=[ a, b ]$.\n",
    "\n",
    "> La valeur de $x$ est appelée *le zéro de f* sur $[ a \\quad b ]$.\n",
    "\n",
    "**Résolution approchée :**\n",
    "\n",
    "> Nous allons décrire deux algorithmes itératifs permettant d'obtenir, de la solution $x$, un encadrement *aussi précis que l'on veut*, c'est-à-dire une valeur approchée de la solution.\n",
    "\n",
    "> Chaque algorithme construit ainsi une suite finie de réels $x_0$, $x_1$, $x_2$, ..., $x_k$ qui tend vers $x$.\n",
    "\n",
    "> En pratique, la **précision du zéro** est limitée par la représentation des réels en tant qu'objet ``float`` et les arrondis lors des calculs successifs. Généralement, l'erreur relative sur la valeur du zéro est ainsi, au mieux, de l'ordre de $10^{-15}$ à $10^{-16}$.\n",
    "\n",
    "\n",
    "\n",
    "\n",
    "**Ne pas confondre :**\n",
    "\n",
    "+ la valeur approchée du zéro, c'est-à-dire sa valeur $x_k$ lors la k-ième itération avec k \"grand\",\n",
    "+ avec la valeur $f(x_k)$ que prend la fonction en ce point (que l'on souhaiterait nulle, mais qui ne l'est pas rigoureusement).\n",
    "\n",
    "Selon les cas, la précision de la méthode sera quantifiée par\n",
    "+ ou bien la distance entre $x_k$ et $x$, on s'impose dans ce cas que $|x_k-x|<\\varepsilon_x$\n",
    "+ ou bien par la valeur que prend la fonction $f$ au point $x_k$, on s'impose dans ce cas que $|f(x_k)|<\\epsilon_f$.\n",
    "\n",
    "> Le premier critère, en $\\varepsilon_x$, est défini dans l'espace des $x$, c'est-à-dire l'*espace de départ*.\n",
    "\n",
    "> Le second critère, en $\\varepsilon_f$, est défini dans l'espace des $f(x)$, c'est-à-dire l'*espace des images*.\n",
    "\n",
    "> Exemple physique : $x$ peut être une position (en mètres), $f(x)$ un effort mécanique (en Newton).\n",
    "\n",
    "\n",
    "# Méthode de la dichotomie\n",
    "\n",
    "Principe : \n",
    "\n",
    "+ On découpe successivement l'intervalle $[a \\quad b ]$ de recherche en deux. \n",
    "+ On regarde le signe de $f$ au point milieu puis on poursuit la recherche :\n",
    "  + ou bien dans $[a \\quad m]$  \n",
    "  + ou bien dans $[m \\quad b]$.\n",
    "+ On s'arrête lorsque la largeur de l'intervalle de recherche est inférieure à une précision $\\epsilon_x$ donnée."
   ]
  },
  {
   "cell_type": "code",
   "execution_count": 1,
   "metadata": {},
   "outputs": [],
   "source": [
    "def getZeroDicho(f,a,b,epsilonx=1e-8):\n",
    "    while abs(b-a) > epsilonx :\n",
    "        m = (a+b) / 2                # point milieu\n",
    "        if f(m)*f(a) < 0 : # f(m) et f(a) sont-ils de signes opposés?\n",
    "            b = m  # dans ce cas, on poursuit dans l'intervalle [a m]\n",
    "        else:\n",
    "            a = m  # dans ce cas, on poursuit la recherche dans [m b]\n",
    "    return (a + b)/2  # ne pas oublier de retourner le résultat "
   ]
  },
  {
   "cell_type": "markdown",
   "metadata": {},
   "source": [
    "Exemple, avec la fonction $f_1 : x \\to f_1(x)=x^3/6-x+1/2$ dont on cherche le zéro sur $[1 \\quad 3 ]$."
   ]
  },
  {
   "cell_type": "code",
   "execution_count": 8,
   "metadata": {},
   "outputs": [
    {
     "data": {
      "image/png": "[encoded data removed]",
      "text/plain": [
       "<Figure size 432x288 with 1 Axes>"
      ]
     },
     "metadata": {
      "needs_background": "light"
     },
     "output_type": "display_data"
    },
    {
     "name": "stdout",
     "output_type": "stream",
     "text": [
      "Le zéro de la fonction est :  2.1451026909053326  à 1e-8 près\n"
     ]
    }
   ],
   "source": [
    "## Définition de la fonction\n",
    "def f1(x):\n",
    "    return x**3/6-x+1/2 # définition de la fonction\n",
    "\n",
    "## Tracé de la fonction\n",
    "xi = np.linspace(1, 3, 10**6) # valeurs sur l'intervalle [1;3]\n",
    "plt.plot(xi,f1(xi),'-k')      # tracé en trait noir\n",
    "\n",
    "## Détermination du zéro grâce à la fonction dichotomie\n",
    "x0 = getZeroDicho(f1, 1, 3)   # appel de la fonction de recherche dichotomique \n",
    "\n",
    "## Affichage graphique de la solution\n",
    "plt.plot(x0,f1(x0),'or')    # 'o' = cercle, 'r' = rouge\n",
    "plt.plot([1,3],[0,0],'--r') #\n",
    "yl0=plt.ylim() # récupère les limites [ymin, ymax] de l'axe y\n",
    "plt.plot([x0,x0],yl0,'--r') #\n",
    "plt.show()\n",
    "print('Le zéro de la fonction est : ',x0, ' à 1e-8 près')"
   ]
  },
  {
   "cell_type": "markdown",
   "metadata": {},
   "source": [
    "**Remarque :**\n",
    "\n",
    "> A chaque itération, on divise par deux la largeur de l'intervalle de recherche.\n",
    "\n",
    "> Le nombre $n$ d'itérations pour obtenir un encadrement de $x_0$ à $\\varepsilon_x$ près en partant d'un intervalle de largeur initiale $(b-a)$ est donc de l'ordre de:\n",
    "$$\\frac{b-a}{2^n} \\sim \\varepsilon_x$$\n",
    "Soit $$n\\sim \\log_2\\left(\\frac{b-a}{\\varepsilon_x}\\right)$$\n",
    "\n",
    "> Dans notre exemple, $b-a = 3-1=2$ et $\\varepsilon_x = 10^{-8}$, donc $n \\sim \\log_2(2/10^{-8})=\\ln(2/10^{-8})/\\ln(2)\\approx 27,57$\n",
    "\n",
    "La méthode converge donc en 28 itérations environ."
   ]
  },
  {
   "cell_type": "markdown",
   "metadata": {},
   "source": [
    "# Méthode de Newton (complément hors programme)\n",
    "\n",
    "**Remarque :** la méthode de Newton permet la recherche du zéro d'une fonction $f : x\\to f(x)$ mais **suppose que l'on ait accès aux valeurs numériques de sa dérivée** : $$\\frac{\\mathrm{d} f}{\\mathrm{d} x} \\quad \\textrm{doit être connue numériquement}$$\n",
    "<img src=\"img/Newton_iteration.png\" width=\"300\">"
   ]
  },
  {
   "cell_type": "markdown",
   "metadata": {},
   "source": [
    "Principe : \n",
    "\n",
    "Soit $x_n$ une valeur approchée du zéro de $f$ à l'itération $n$:\n",
    "\n",
    "+ on approxime la fonction $f$ à une fonction linéaire en utilisant la valeur de $f(x_n)$ et de sa dérivée au point $x_n$, $\\left.\\frac{\\mathrm{d} f}{\\mathrm{d} x}\\right|_{x_n}$\n",
    "+ on calcule ensuite l'abscisse du point d'intersection de l'axe des abscisses avec cette approximation linéaire (c'est-à-dire avec la tangente à la courbe au point $x_n$, en rouge sur la figure précédente).\n",
    "+ le point d'intersection $x_{n+1}$ est la valeur approchée à l'itération $n+1$.\n",
    "\n",
    "On en déduit l'expression de $x_{n+1}$ en fonction de $x_n$ et des prises par $f$ et sa dérivée au point $x_n$:\n",
    "$$x_{n+1}=x_n-\\frac{f(x_n)}{\\frac{\\mathrm{d} f}{\\mathrm{d} x}(x_n)}$$\n",
    "\n",
    "**Condition d'arrêt :**\n",
    "\n",
    "En général, la convergence de la méthode n'est pas garantie. Voici les critères d'arrêt possibles :\n",
    "\n",
    "+ $|x_{n+1}-x_{n}|<\\varepsilon_x$, l'écart entre deux termes successifs est suffisamment faible, c'est la plus commune.\n",
    "+ $|x_{n+1}-x_{n}|/|x_{n+1}|<\\varepsilon_x$, l'écart relatif entre deux termes successifs est suffisamment faible.\n",
    "+ $|f(x_{n+1}|<\\varepsilon_f$, la valeur de $f$ est suffisamment proche de zéro.\n",
    "+ $n>n_{\\textrm{MAX}}$, le nombre d'itérations dépasse une valeur limite (c'est le cas où la méthode ne converge pas)."
   ]
  },
  {
   "cell_type": "code",
   "execution_count": 10,
   "metadata": {},
   "outputs": [],
   "source": [
    "def getZeroNewton(f,df,x0,epsilonx=1e-8,nMax=100): # la fonction f et sa dérivée df sont fournies en argument\n",
    "    n=0 # nombre d'itérations\n",
    "    x1=x0-f(x0)/df(x0)\n",
    "    while (abs(x1-x0)>epsilonx) and (n<nMax) : # ATTENTION à la condition d'arrêt !\n",
    "        x0=x1 # on décale le point n -> n+1\n",
    "        n+=1  # comptage des iterations pour la condition d'arret relative à nMax\n",
    "        x1=x0-f(x0)/df(x0)\n",
    "    return (x1,n) # renvoie la valeur approchée du zéro et le nombre d'itérations"
   ]
  },
  {
   "cell_type": "markdown",
   "metadata": {},
   "source": [
    "Exemple : pour la fonction $f_1 : x \\to f_1(x)=x^3/6-x+1/2$ de dérivée $df_1 : x \\to x^2/3 -1$"
   ]
  },
  {
   "cell_type": "code",
   "execution_count": 12,
   "metadata": {},
   "outputs": [
    {
     "name": "stdout",
     "output_type": "stream",
     "text": [
      "(2.1451026912004223, 5)\n"
     ]
    }
   ],
   "source": [
    "f1 = lambda x:x**3/6-x+0.5 # mot clé \"lambda\" = compact pour définir les fonctions\n",
    "df1 = lambda x:x**2/2-1    # fonction dérivée\n",
    "print(getZeroNewton(f1,df1,3)) # x0=3"
   ]
  },
  {
   "cell_type": "markdown",
   "metadata": {},
   "source": [
    "La méthode converge en seulement 5 itérations (contre 28 pour la méthode de dichotomie).\n",
    "Au niveau des performances, de manière générale : \n",
    "\n",
    "        DICHOTOMIE << NEWTON\n",
    "        \n",
    "Attention, dans certains cas, si le point de départ est mal choisi la méthode ne converge pas."
   ]
  },
  {
   "cell_type": "code",
   "execution_count": 14,
   "metadata": {},
   "outputs": [
    {
     "name": "stdout",
     "output_type": "stream",
     "text": [
      " Pour x0 = 0.5, la méthode converge en  5  itérations\n",
      " Pour x0 = 1. , la méthode converge en  8  itérations\n",
      " Pour x0 = 3., au bout de n =  100  itérations, la méthode renvoie  9.498636739889094e+24\n"
     ]
    },
    {
     "data": {
      "image/png": "[encoded data removed]",
      "text/plain": [
       "<Figure size 432x288 with 1 Axes>"
      ]
     },
     "metadata": {
      "needs_background": "light"
     },
     "output_type": "display_data"
    }
   ],
   "source": [
    "f2  = lambda x:x+np.cos(x)\n",
    "df2 = lambda x:1-np.sin(x)\n",
    "xi  = np.linspace(-5,5,1000)\n",
    "plt.plot(xi,f2(xi),'-k') #\n",
    "plt.grid(True)\n",
    "xA,nA=getZeroNewton(f2,df2,.5,1e-12) # on part de 1\n",
    "plt.plot(xA,f2(xA),'or') # affiche du zero\n",
    "print(' Pour x0 = 0.5, la méthode converge en ', nA,' itérations')\n",
    "xB,nB=getZeroNewton(f2,df2,1.,1e-12) # on part de 1\n",
    "print(' Pour x0 = 1. , la méthode converge en ', nB,' itérations')\n",
    "xC,nC=getZeroNewton(f2,df2,3.,1e-12) # on part de 1\n",
    "print(' Pour x0 = 3., au bout de n = ',nC,' itérations, la méthode renvoie ',xC)"
   ]
  },
  {
   "cell_type": "markdown",
   "metadata": {},
   "source": [
    "**Remarque 1:**\n",
    "\n",
    "> Si la dérivée n'est pas connue, on peut l'estimer numérique par un schéma de différences finies (voir précédemment).\n",
    "\n",
    "**Remarque 2:**\n",
    "\n",
    "> On peut adapter la méthode de Newton au recherche du minimum d'une fonction suffisamment régulière car chercher le minimum d'une fonction $f$ revient à chercher l'annulation de sa dérivée. En effet, \n",
    "\n",
    "> si $x_0$ est un minimum de $f$, alors $g=\\frac{\\mathrm{d} f}{\\mathrm{d} x}$ est nul en $x_0$. Cela revient à appliquer la méthode de Newton à la fonction $g$.\n",
    "\n",
    "**Remarque 3:**\n",
    "\n",
    "> La méthode de Newton possède de nombreuses généralisations dans le cas où $f$ est un champ scalaire en dimension $n$ (*i.e*, une fonction de $\\mathbb{R^n} \\to \\mathbb{R}$), mais leur étude est hors programme."
   ]
  },
  {
   "cell_type": "markdown",
   "metadata": {},
   "source": [
    "# Dichotomie : utilisation de bisect de scipy.optimize\n",
    "\n",
    "Le sous module ``optimize`` du module scipy possède une fonction qui implémente la recherche du zéro par dichotomie."
   ]
  },
  {
   "cell_type": "code",
   "execution_count": 17,
   "metadata": {},
   "outputs": [
    {
     "name": "stdout",
     "output_type": "stream",
     "text": [
      "Help on function bisect in module scipy.optimize.zeros:\n",
      "\n",
      "bisect(f, a, b, args=(), xtol=2e-12, rtol=8.881784197001252e-16, maxiter=100, full_output=False, disp=True)\n",
      "    Find root of a function within an interval using bisection.\n",
      "    \n",
      "    Basic bisection routine to find a zero of the function `f` between the\n",
      "    arguments `a` and `b`. `f(a)` and `f(b)` cannot have the same signs.\n",
      "    Slow but sure.\n",
      "    \n",
      "    Parameters\n",
      "    ----------\n",
      "    f : function\n",
      "        Python function returning a number.  `f` must be continuous, and\n",
      "        f(a) and f(b) must have opposite signs.\n",
      "    a : scalar\n",
      "        One end of the bracketing interval [a,b].\n",
      "    b : scalar\n",
      "        The other end of the bracketing interval [a,b].\n",
      "    xtol : number, optional\n",
      "        The computed root ``x0`` will satisfy ``np.allclose(x, x0,\n",
      "        atol=xtol, rtol=rtol)``, where ``x`` is the exact root. The\n",
      "        parameter must be nonnegative.\n",
      "    rtol : number, optional\n",
      "        The computed root ``x0`` will satisfy ``np.allclose(x, x0,\n",
      "        atol=xtol, rtol=rtol)``, where ``x`` is the exact root. The\n",
      "        parameter cannot be smaller than its default value of\n",
      "        ``4*np.finfo(float).eps``.\n",
      "    maxiter : int, optional\n",
      "        if convergence is not achieved in `maxiter` iterations, an error is\n",
      "        raised.  Must be >= 0.\n",
      "    args : tuple, optional\n",
      "        containing extra arguments for the function `f`.\n",
      "        `f` is called by ``apply(f, (x)+args)``.\n",
      "    full_output : bool, optional\n",
      "        If `full_output` is False, the root is returned.  If `full_output` is\n",
      "        True, the return value is ``(x, r)``, where x is the root, and r is\n",
      "        a `RootResults` object.\n",
      "    disp : bool, optional\n",
      "        If True, raise RuntimeError if the algorithm didn't converge.\n",
      "        Otherwise the convergence status is recorded in a `RootResults`\n",
      "        return object.\n",
      "    \n",
      "    Returns\n",
      "    -------\n",
      "    x0 : float\n",
      "        Zero of `f` between `a` and `b`.\n",
      "    r : `RootResults` (present if ``full_output = True``)\n",
      "        Object containing information about the convergence.  In particular,\n",
      "        ``r.converged`` is True if the routine converged.\n",
      "    \n",
      "    Examples\n",
      "    --------\n",
      "    \n",
      "    >>> def f(x):\n",
      "    ...     return (x**2 - 1)\n",
      "    \n",
      "    >>> from scipy import optimize\n",
      "    \n",
      "    >>> root = optimize.bisect(f, 0, 2)\n",
      "    >>> root\n",
      "    1.0\n",
      "    \n",
      "    >>> root = optimize.bisect(f, -2, 0)\n",
      "    >>> root\n",
      "    -1.0\n",
      "    \n",
      "    See Also\n",
      "    --------\n",
      "    brentq, brenth, bisect, newton\n",
      "    fixed_point : scalar fixed-point finder\n",
      "    fsolve : n-dimensional root-finding\n",
      "\n"
     ]
    }
   ],
   "source": [
    "# import du sous module\n",
    "import scipy.optimize as opt # opt est un alias sur le sous-module optimize\n",
    "\n",
    "help(opt.bisect) # aide sur la fonction bisect"
   ]
  },
  {
   "cell_type": "markdown",
   "metadata": {},
   "source": [
    "## Exemple d'utilisation de la fonction bisect\n",
    "\n",
    "Soit la fonction $f_1 : x \\to f_1(x)=x^3/6-x+1/2$ dont on cherche le zéro sur l'intervalle $[1 ; 3 ]$."
   ]
  },
  {
   "cell_type": "code",
   "execution_count": 23,
   "metadata": {},
   "outputs": [],
   "source": [
    "## Définition de la fonction dont on cherche le zéro\n",
    "def f1(x):\n",
    "    return x**3/6-x+1/2 # définition de la fonction"
   ]
  },
  {
   "cell_type": "code",
   "execution_count": 27,
   "metadata": {},
   "outputs": [
    {
     "name": "stdout",
     "output_type": "stream",
     "text": [
      "x0 =  2.145102691201828\n"
     ]
    }
   ],
   "source": [
    "## Appel de la fonction bisect le résultat étant stockée dans x0\n",
    "x0 = opt.bisect(f1, 1, 3)# fonction, bornes min et max de l'intervalle, \n",
    "                         # les autres paramètres sont optionnels\n",
    "print('x0 = ',x0) # valeur approché du zéro"
   ]
  },
  {
   "cell_type": "markdown",
   "metadata": {},
   "source": [
    "<center><FONT size=\"6pt\" color=firebrick> Exercices d'entraînement </FONT></center>"
   ]
  },
  {
   "cell_type": "markdown",
   "metadata": {},
   "source": [
    "# N4 n°1 Point de fonctionnement de deux dipôles (à chercher)\n",
    "\n",
    "On cherche à déterminer, par le calcul, les coordonnées $(U_F,I_F)$ du point de fonctionnement du circuit ci-dessous constitué d'un générateur connecté à une diode.\n",
    "\n",
    "| | |\n",
    "|:--:|:--:|\n",
    "|<img src=\"img/schemaDiodeGene.png\"  width =310> | <img src=\"img/pointFonctionnement.png\" width=\"300\" >|\n",
    "|schéma électrique des deux dipôles | intersection des caractéristiques des deux dipôles|\n",
    "\n",
    "**La caractéristique du générateur** (association d'une source idéale de tension et d'une résistance) est celle d'un dipôle linéaire. \n",
    "\n",
    "Elle est donnée par la relation\n",
    "$$U(I) = E-RI$$\n",
    "\n",
    "**La caractéristique de la diode** est celle d'un dipôle non linéaire.\n",
    "\n",
    "On suppose qu'elle est donnée par la relation \n",
    "$$I(U) = I_s\\left( \\exp\\left(\\frac{e(U)}{\\eta k_BT}\\right)-1\\right)$$\n",
    "avec\n",
    "\n",
    "- $k_B = \\textrm{1,380649 10}^{-23} \\textrm{ J.K}^{-1}$ la constante de Boltzmann,\n",
    "- $e= \\textrm{1,602176634 10}^{-19} \\textrm{ C}$ la charge élémentaire,\n",
    "- $T$ la température thermodynamique de la diode (en kelvins),\n",
    "- $I_s=\\textrm{2 10}^{-12} \\textrm{ A}$ le courant de saturation qui dépend des dimensions internes au composant,\n",
    "- $\\eta\\approx 1,2$ le facteur d'idéalité pour la diode considérée. \n"
   ]
  },
  {
   "cell_type": "markdown",
   "metadata": {},
   "source": [
    "**Questions**\n",
    "\n",
    "a) Définir la fonction Python ``Idiode(U)`` qui, à partir de la tension $U$ (en volts), renvoie l'invensité $I$ du courant dans la diode (en ampères). On prendra une température $T= \\textrm{ 35 °C}$\n",
    "\n",
    "b) Tracer la caractéristique $I=f(U)$ de la diode pour $U$ variant $-1\\textrm{ V}$ à $\\textrm{+0,8 V}$.\n",
    "\n",
    "c) Tracer sur le même graphe la caractéristique $I=g(U)$ du générateur pour $E= 1,5\\textrm{ V}$ et $R = 20 \\,\\Omega$.\n",
    "\n",
    "d) Déterminer la valeur approchée des coordonnées $I_F,U_F$ du point de fonctionnement du circuit en résolvant l'équation non-linéaire suivante\n",
    "\n",
    "$$g(U) = f(U)$$\n",
    "\n",
    "à l'aide de la fonction *bisect(f,a,b)* du module *scipy.optimize*.\n",
    "\n",
    "e) En déduire la valeur numérique de la puissance $P=UI$ dissipée par la diode lorsqu'elle est connetée à ce générateur.\n",
    "\n",
    "On s'aidera de la **trame ci-dessous**."
   ]
  },
  {
   "cell_type": "code",
   "execution_count": null,
   "metadata": {},
   "outputs": [],
   "source": [
    "## import des modules\n",
    " # à compléter # pour les fonctions mathématiques (exp)\n",
    " # à compléter # pour les fonctions graphiques\n",
    "\n",
    "## a) Définition de la fonction Idiode\n",
    "def Idiode(U):\n",
    "    # constantes physiques\n",
    "    kB = 1.380649e-23 # J/K constante de Boltzmann\n",
    "    e = 1.602176634e-19# C charge élémentaire\n",
    "    T = 273.15 + 35 # 35°C converti en kelvins\n",
    "    Is = 2e-12 # ampères\n",
    "    eta = 1.2 # facteur d'idéalité (sans dimension)\n",
    "    return  # à compléter\n",
    "               \n",
    "## b) Tracé de la caractéristique pour U variant entre -1V et +0,8 V\n",
    "Ui=# à compléter # tableau numpy des valeurs en abscisses\n",
    "plt.plot( # à compléter   # caractéristique de la diode en trait bleu\n",
    "plt.xlabel('U (V)') # titre de l'axe horizontal\n",
    "plt.ylabel('I (A)') # titre de l'axe vertical\n",
    "plt.title('Caractéristique I-U de la diode')\n",
    "plt.grid()     "
   ]
  },
  {
   "cell_type": "code",
   "execution_count": null,
   "metadata": {},
   "outputs": [],
   "source": [
    "## c) Superposition de la caractéristique du générateur\n",
    "E, R = 1.5,  20. # volts, ohms\n",
    "Ig = # à compléter # valeurs des tensions du générateur\n",
    "plt.plot( ... ,label='diode')  # à compléter      # caractéristique du générateur en trait rouge\n",
    "plt.plot(... ,'-b',label='générateur')# à compléter # caractéristique de la diode en trait bleu\n",
    "plt.xlabel('U (V)') # titre de l'axe horizontal\n",
    "plt.ylabel('I (A)')\n",
    "plt.title('Caractéristique I-U de la diode')\n",
    "plt.legend()\n",
    "plt.grid()"
   ]
  },
  {
   "cell_type": "code",
   "execution_count": null,
   "metadata": {},
   "outputs": [],
   "source": [
    "## Définition de la fonction f à annuler\n",
    "def f(U):\n",
    "    return # à compléter # fonction U -> \"différence des intensités des courants dans les dipôles\"\n",
    "\n",
    "## Appel de la fonction bisect\n",
    "# à compléter # import du module optimize de scipy\n",
    "Uf = # à compléter # l'intersection est cherchée dans l'intervalle des tensions U comprises entre 0 et 0,8V\n",
    "\n",
    "## Affichage du résultat\n",
    "If = Idiode(Uf) # calcul de la valeur du courant\n",
    "print(\"Les coordonnées du point F de fonctionnement sont Uf = \",...) # à compléter # affichage de Uf et If"
   ]
  },
  {
   "cell_type": "code",
   "execution_count": null,
   "metadata": {},
   "outputs": [],
   "source": [
    "## e) Puissance dissipée la diode\n",
    "print('Puissance dissipée P = Uf x If = ',...) # à compléter # puissance avec l'unité correcte."
   ]
  },
  {
   "cell_type": "markdown",
   "metadata": {},
   "source": [
    "**Correction N4 n°1 : point de fonctionnement**"
   ]
  },
  {
   "cell_type": "code",
   "execution_count": 30,
   "metadata": {},
   "outputs": [
    {
     "data": {
      "image/png": "[encoded data removed]",
      "text/plain": [
       "<Figure size 432x288 with 1 Axes>"
      ]
     },
     "metadata": {
      "needs_background": "light"
     },
     "output_type": "display_data"
    }
   ],
   "source": [
    "## import des modules\n",
    "import numpy as np # pour les fonctions mathématiques (exp)\n",
    "import matplotlib.pyplot as plt # pour les graphiques\n",
    "\n",
    "## a) Définition de la fonction Idiode\n",
    "\n",
    "def Idiode(U):\n",
    "    # constantes physiques\n",
    "    kB = 1.380649e-23 # J/K constante de Boltzmann\n",
    "    e = 1.602176634e-19# C charge élémentaire\n",
    "    T = 273.15 + 35 # 35°C converti en kelvins\n",
    "    Is = 2e-12 # ampères\n",
    "    eta = 1.2 # facteur d'idéalité (sans dimension)\n",
    "    return Is*(np.exp((e*U)/(eta*kB*T))-1)\n",
    "               \n",
    "## b) Tracé de la caractéristique pour U variant entre -1V et +0,8 V\n",
    "Ui=np.linspace(-1, 0.8, 10**3) # tableau numpy des valeurs en abscisses\n",
    "plt.plot(Ui,Idiode(Ui),'-b')   # caractéristique de la diode en trait bleu\n",
    "plt.xlabel('U (V)') # titre de l'axe horizontal\n",
    "plt.ylabel('I (A)')\n",
    "plt.title('Caractéristique I-U de la diode')\n",
    "plt.grid()     "
   ]
  },
  {
   "cell_type": "markdown",
   "metadata": {},
   "source": [
    "Pour tracer la caractéristique du générateur en fonction de la tension, on peut \"inverser\" la relation\n",
    "\n",
    "$$U(I) = E-RI$$\n",
    "qui s'écrit également\n",
    "$$I(U) =\\frac{E-U}{R}$$"
   ]
  },
  {
   "cell_type": "code",
   "execution_count": 31,
   "metadata": {},
   "outputs": [
    {
     "data": {
      "image/png": "[encoded data removed]",
      "text/plain": [
       "<Figure size 432x288 with 1 Axes>"
      ]
     },
     "metadata": {
      "needs_background": "light"
     },
     "output_type": "display_data"
    }
   ],
   "source": [
    "## c) Superposition de la caractéristique du générateur\n",
    "E, R = 1.5,  20. # volts, ohms\n",
    "Ig = (E-Ui)/R # valeurs des tensions du générateur\n",
    "plt.plot(Ui, Ig,'-r',label='diode')        # caractéristique du générateur en trait rouge\n",
    "plt.plot(Ui,Idiode(Ui),'-b',label='générateur') # caractéristique de la diode en trait bleu\n",
    "plt.xlabel('U (V)') # titre de l'axe horizontal\n",
    "plt.ylabel('I (A)')\n",
    "plt.title('Caractéristique I-U de la diode')\n",
    "plt.legend()\n",
    "plt.grid()"
   ]
  },
  {
   "cell_type": "markdown",
   "metadata": {},
   "source": [
    "d) Pour déterminer les coordonnées du point de fonctionnement, il est nécessaire de définir la **fonction à annuler**.\n",
    "\n",
    "Le point de fonctionnement se situe à l'intersection des deux courbes. Ses coordonnées $U_F, I_F$ vérifient donc l'équation\n",
    "\n",
    "$$I_F = \\textrm{Idiode}(U_F) = \\textrm{Ig}(U_F)$$\n",
    "\n",
    "On peut donc choisir pour fonction à annuler la fonction $f$ suivante\n",
    "\n",
    "$$f : U \\mapsto  \\textrm{Idiode}(U) - \\textrm{Ig}(U)$$\n",
    "\n",
    "Il ne reste plus qu'à définir cette fonction en Pyhton et à appeler la méthode de recherche *bisect(f,a,b)* du module scipy.optimize."
   ]
  },
  {
   "cell_type": "code",
   "execution_count": 36,
   "metadata": {},
   "outputs": [
    {
     "name": "stdout",
     "output_type": "stream",
     "text": [
      "Les coordonnées du point F de fonctionnement sont Uf =  0.7536001647138618  V ; If =  0.03731999176424508  A\n"
     ]
    }
   ],
   "source": [
    "## Définition de la fonction f à annuler\n",
    "def f(U):\n",
    "    return Idiode(U)-(E-U)/R # fonction U -> \"différence des intensités des courants dans les dipôles\"\n",
    "\n",
    "## Appel de la fonction bisect\n",
    "import scipy.optimize as opt # import du module optimize de scipy\n",
    "Uf = opt.bisect(f, 0, 0.8) # l'intersection est cherchée dans l'intervalle des tensions U comprises entre 0 et 0,8V\n",
    "\n",
    "## Affichage du résultat\n",
    "If = Idiode(Uf) # calcul de la valeur du courant\n",
    "print(\"Les coordonnées du point F de fonctionnement sont Uf = \",Uf,\" V ; If = \",If,\" A\")"
   ]
  },
  {
   "cell_type": "markdown",
   "metadata": {},
   "source": [
    "Conclusion : $$U_f \\approx 754 \\textrm{ mV} \\quad \\textrm{et}\\quad I_f= \\textrm{ 37,3 mA}$$"
   ]
  },
  {
   "cell_type": "code",
   "execution_count": 37,
   "metadata": {},
   "outputs": [
    {
     "name": "stdout",
     "output_type": "stream",
     "text": [
      "Puissance dissipée P = Uf x If =  0.02812435194065506  W\n"
     ]
    }
   ],
   "source": [
    "## e) Puissance dissipée la diode\n",
    "print('Puissance dissipée P = Uf x If = ',Uf*If,' W')"
   ]
  },
  {
   "cell_type": "markdown",
   "metadata": {},
   "source": [
    "La puissance dissipée la diode vaut $P=\\textrm{ 28,1 mW}$."
   ]
  },
  {
   "cell_type": "markdown",
   "metadata": {},
   "source": [
    "\n",
    "# N4 n°2 Détermination d'un avancement à l'équilibre (exercice corrigé)\n",
    "\n",
    "On considère la transformation du bromure de nitrosyle (NOBr (g)) en monoxyde d’azote (NO (g)) et dibrome (Br2 (g)) qui est effectuée dans un contenant sous la pression $p = \\textrm{ 4,58 bar}$ maintenue fixe. Le bilan réactionnel est le suivant :\n",
    "\n",
    "$$2 \\textrm{NOBr(g)}\\rightleftharpoons 2 \\textrm{NO (g)}+ 2 \\textrm{Br}_2\\textrm{(g)}$$\n",
    "\n",
    "La constante d’équilibre  $\\textrm{K}^0(T)$ de ce bilan réactionnel est donnée en fonction de la température $T$ dans le tableau ci-dessous.\n",
    "\n",
    "| T (°C)  | 25     | 50    | 100   | 700 |\n",
    "|---------|--------|-------|-------|-----|\n",
    "| $\\textrm{K}^0(T)$ | 0,0095 | 0,030 | 0,111 | 34  |\n",
    "\n",
    "On souhaite déterminer la valeur de l'avancement à l'équilibre $\\xi_{éq}$ à 100°C lorsque le réactif ``NOBr`` est initialement seul dans le réacteur à pression constante.\n",
    "\n",
    "Le nombre de moles initiales est  $n_0(\\textrm{NOBr} = \\textrm{2 mol}$.\n",
    "\n",
    "Pour cela, nous définissons la fonction qui, à l'avancement $\\xi$, associe la valeur du quotient réactionnel $Q_r$ pour :\n",
    "- un nombre de moles initial $n_0$ en ``NOBr`` introduit initialement seul,\n",
    "- et pour une pression totale $p$ du mélange réactionnel.\n",
    "\n",
    "Remarques: en Python, nous choisissons d'exprimer $p$ en bar et $n_0$, $\\xi$ en moles.\n",
    "\n",
    "Nous avons donc\n",
    "$$Q_r(\\xi)=\\frac{4 \\xi^3}{(2-2\\xi)^2(2+\\xi)} \\left(\\frac{p}{p^0} \\right)$$\n",
    "\n",
    "a) Sachant qu'à l'équilibre le quotient réactionnel $Q_r(\\xi)$ est égal à la constante $\\textrm{K}^0(T)$ de réaction, proposer une fonction numérique $f : \\xi \\mapsto f(\\xi)$ dont on doit chercher l'annulation afin de déterminer la valeur $\\xi=\\xi_{éq}$.\n",
    "\n",
    "b) Ecrire le code Python qui définit cette fonction. Calculer $Q_r(\\xi = 0.5)$. Que peut-on conclure de ce résultat?\n",
    "\n",
    "c) Déterminer le zéro de cette fonction. On utilisera pour cela fonction ```bisect(f,a,b)``` renvoyant un zéro de $f$ sur l'intervalle $[a;b]$.\n",
    "\n",
    "d) Déterminer la nouvelle valeur d'avancement d'équilibre $\\xi_{éq,2}$ si on porte le même mélange réactionnel à 700°C.\n",
    "\n",
    "e) Conclure : quel est l'effet d'une augmentation de la température sur l'équilibre ?\n"
   ]
  },
  {
   "cell_type": "code",
   "execution_count": null,
   "metadata": {},
   "outputs": [],
   "source": []
  },
  {
   "cell_type": "markdown",
   "metadata": {},
   "source": [
    "**Correction de N4 n°1**\n",
    "\n",
    "a) L'équation $$Q_r(\\xi)=\\textrm{K}^0(T)$$ s'écrit également\n",
    "$$Q_r(\\xi)-\\textrm{K}^0(T)=0$$\n",
    "\n",
    "\n",
    "On se ramène donc à chercher l'annulation de la fonction $f : \\xi \\mapsto Q_r(\\xi)-\\textrm{K}^0(T)$."
   ]
  },
  {
   "cell_type": "markdown",
   "metadata": {},
   "source": [
    "b) On définit la fonction en Python.\n",
    "\n",
    "Notons qu'il est toujours judicieux de travailler avec des valeurs littérales préalablement définies. Cela permet de s'adapter rapidement à des éventuelles modifications des valeurs."
   ]
  },
  {
   "cell_type": "code",
   "execution_count": 38,
   "metadata": {},
   "outputs": [],
   "source": [
    "## Définition de la fonction \n",
    "n0 = 2.   # (mol)\n",
    "p, p0  = 4.58, 1 # (bar)\n",
    "def Qr(x):\n",
    "    return (p/p0)*(4*x**3)/((n0 - 2*x)**2 * (n0 + x))\n",
    "def f(x):\n",
    "    return Qr(x)-0.111 # Qr(x)-K"
   ]
  },
  {
   "cell_type": "code",
   "execution_count": 39,
   "metadata": {},
   "outputs": [],
   "source": [
    "## Définition de la fonction (avec les lambdas fonctions)\n",
    "n0 = 2.   # (mol)\n",
    "p, p0  = 4.58, 1 # (bar)\n",
    "Qr = lambda x : (p/p0)*(4*x**3)/((n0 - 2*x)**2 * (n0 + x))\n",
    "f = lambda x: Qr(x)-0.111 # Qr(x)-K"
   ]
  },
  {
   "cell_type": "code",
   "execution_count": 40,
   "metadata": {},
   "outputs": [
    {
     "data": {
      "text/plain": [
       "0.916"
      ]
     },
     "execution_count": 40,
     "metadata": {},
     "output_type": "execute_result"
    }
   ],
   "source": [
    "Qr(0.5) # Comme Qr > 0, on en déduit que xi_éq est inférieur à 0.8. Donc que xi_éq est compris entre 0 et 0.8."
   ]
  },
  {
   "cell_type": "markdown",
   "metadata": {},
   "source": [
    "c) Détermination du zéro\n",
    "\n",
    "Il se pose le problème du choix des bornes de l'intervalle.\n",
    "\n",
    "Deux possibilités:\n",
    "\n",
    "1. On raisonne à partir de nos connaissances sur \"la chimie\" : \n",
    "    - On sait que l'avancement $\\xi$ va être positif car la réaction va se faire.\n",
    "    - On sait de plus la valeur maximale de l'avancement ne pourra pas dépasser la valeur qui conduit à la disparition du réactif limitant donc $2\\xi<n_0=\\textrm{ 2 mol}$.\n",
    "    - ainsi la recherche peut se faire dans l'intervalle $[0;1]$.\n",
    "    \n",
    "    \n",
    "2. On ne sait rien du résultat *a priori* et on va s'appuyer sur une représentation graphique de la fonction de manière à **\"visualiser graphiquement le zéro\"** de la fonction."
   ]
  },
  {
   "cell_type": "markdown",
   "metadata": {},
   "source": [
    "Enfin, on peut utiliser le sens d'évolution d'un équilibre chimique:\n",
    "\n",
    "- si $Q_r(\\xi)<\\textrm{K}^0(T)$ alors la réaction fait augmenter $\\xi$ (sens 1 ->)\n",
    "- si $Q_r(\\xi)>\\textrm{K}^0(T)$ alors la réaction fait diminuer $\\xi$ (sens 2 <-)\n"
   ]
  },
  {
   "cell_type": "code",
   "execution_count": 48,
   "metadata": {},
   "outputs": [
    {
     "data": {
      "text/plain": [
       "0.805"
      ]
     },
     "execution_count": 48,
     "metadata": {},
     "output_type": "execute_result"
    }
   ],
   "source": [
    "f(0.5) # Qr - K"
   ]
  },
  {
   "cell_type": "markdown",
   "metadata": {},
   "source": [
    "On en déduit que $Q_r(\\xi)>\\textrm{K}^0(T)$ donc la valeur d'équilibre de $\\xi$ est nécessairement inférieure à $\\xi = 0,5$.\n",
    "\n",
    "On peut donc effectuer la recherche dans l'intervalle $[0 ; 0,5]$."
   ]
  },
  {
   "cell_type": "code",
   "execution_count": 49,
   "metadata": {},
   "outputs": [
    {
     "data": {
      "text/plain": [
       "Text(0, 0.5, '$Q_r(\\\\xi)$')"
      ]
     },
     "execution_count": 49,
     "metadata": {},
     "output_type": "execute_result"
    },
    {
     "data": {
      "image/png": "[encoded data removed]",
      "text/plain": [
       "<Figure size 432x288 with 1 Axes>"
      ]
     },
     "metadata": {
      "needs_background": "light"
     },
     "output_type": "display_data"
    }
   ],
   "source": [
    "xi = np.linspace(0,0.5,10**3)\n",
    "plt.plot(xi,f(xi))\n",
    "plt.grid()\n",
    "plt.xlabel(r'$\\xi$') # texte formaté pour \"LaTeX\"\n",
    "plt.ylabel(r'$Q_r(\\xi)$') #"
   ]
  },
  {
   "cell_type": "code",
   "execution_count": 52,
   "metadata": {},
   "outputs": [
    {
     "name": "stdout",
     "output_type": "stream",
     "text": [
      "à 100°C, Valeur de xi à l'équilibre xi =  0.30093107411375974\n"
     ]
    }
   ],
   "source": [
    "# import du sous module optimize de scipy\n",
    "import scipy.optimize as opt # opt est un alias sur le sous-module optimize\n",
    "\n",
    "x0 = opt.bisect(f,0,0.8)\n",
    "print(\"à 100°C, Valeur de xi à l'équilibre xi = \", x0)"
   ]
  },
  {
   "cell_type": "code",
   "execution_count": 56,
   "metadata": {},
   "outputs": [
    {
     "name": "stdout",
     "output_type": "stream",
     "text": [
      "A 700°C, valeur de xi à l'équilibre xi =  0.8339595395564958\n"
     ]
    }
   ],
   "source": [
    "## d) Etude à 700°C\n",
    "# la fonction f est modifiée car K(700°C) = 34\n",
    "f = lambda x: Qr(x)-34. # Qr(x)-K \n",
    "x0 = opt.bisect(f,0,0.999) # intervalle de recherche augmenté\n",
    "print(\"A 700°C, valeur de xi à l'équilibre xi = \", x0)"
   ]
  },
  {
   "cell_type": "markdown",
   "metadata": {},
   "source": [
    "e) **Conclusion :** on constate qu'une augmentation de la tempéature favorise la réaction (l'avancement est augmentée)."
   ]
  },
  {
   "cell_type": "markdown",
   "metadata": {},
   "source": [
    "## N4 n°3 Portée d'un tir parabolique (à chercher)\n",
    "\n",
    "La trajectoire d'un point $M$ du plan est décrite par l'équation paramétrique suivante:\n",
    "\n",
    "$$\\left\\{\n",
    "\\begin{array}{ll}\n",
    "        x(t) &= V_0\\cos(\\alpha)\\times t \\\\\n",
    "        y(t) & =V_0\\sin(\\alpha)\\times t-\\frac{1}{2}g\\times t^2+Y_0 \\\\\n",
    "    \\end{array}\n",
    "    \\right.$$\n",
    "    \n",
    "On donne $g=9,81 \\textrm{ m.s}^{-2}$, $V_0 = 10,0 \\textrm{ m.s}^{-1}$, $\\alpha = 35°$ et $Y_0 = \\textrm{5,0 m}$.\n",
    "\n",
    "On s'intéresse à la **portée du tir**, c'est-à-dire la distance parcourue horizontalement lorsque le projectile retombe au sol (plan d'équation $y=0$).\n",
    "\n",
    "a) Déterminer la date $t_1$ pour laquelle l'ordonnée $y$ s'annule. (On utilisera la fonction *bisect*).\n",
    "\n",
    "b) En déduire la portée du tir.\n",
    "\n",
    "On complétera le script Python ci-dessous."
   ]
  },
  {
   "cell_type": "code",
   "execution_count": 67,
   "metadata": {},
   "outputs": [],
   "source": [
    "import numpy as np             # import de Numpy\n",
    "import scipy.optimize as opt   # import de optimize\n",
    "import matplotlib.pyplot as plt# import de pyplot\n",
    "\n",
    "g, v0, Y0, alpha = ... # à compléter # valeurs des constantes\n",
    "\n",
    "def x(t):\n",
    "    return v0*np.cos(alpha)*t # expression de x(t)\n",
    "\n",
    "def y(t):\n",
    "    return # à compléter # expression de y(t)\n",
    "\n",
    "## à compléter\n",
    "## Tracé de la fonction\n",
    "\n",
    "\n",
    "## Recherche du zéro\n",
    "\n",
    "\n",
    "## Affiche des résultats\n"
   ]
  },
  {
   "cell_type": "markdown",
   "metadata": {},
   "source": [
    "**Correction N4 n°3**"
   ]
  },
  {
   "cell_type": "code",
   "execution_count": 70,
   "metadata": {},
   "outputs": [
    {
     "name": "stdout",
     "output_type": "stream",
     "text": [
      "data t1 =  1.6406772618374816  s portée =  14.208681881627523  m\n"
     ]
    },
    {
     "data": {
      "image/png": "[encoded data removed]",
      "text/plain": [
       "<Figure size 432x288 with 1 Axes>"
      ]
     },
     "metadata": {
      "needs_background": "light"
     },
     "output_type": "display_data"
    }
   ],
   "source": [
    "import numpy as np # import de Numpy\n",
    "import scipy.optimize as opt # import de optimize\n",
    "import matplotlib.pyplot as plt\n",
    "\n",
    "g, v0, Y0, alpha = 9.81, 10. ,5.,30*np.pi/180 # constantes\n",
    "\n",
    "def x(t):\n",
    "    return v0*np.cos(alpha)*t                # expression de x(t)\n",
    "\n",
    "def y(t):\n",
    "    return v0*np.sin(alpha)*t- g*t**2/2 + Y0 # expression de y(t)\n",
    "\n",
    "## Tracé de la fonction\n",
    "ti = np.linspace(0,2.,10**3) # intervalle de temps jusqu'à 2 secondes\n",
    "plt.plot(ti,y(ti)) # tracé de l'évolution temporelle de l'ordonnée y(t)\n",
    "\n",
    "## Recherche du zéro\n",
    "t1 = opt.bisect(y,0,2.) # la fonction y : t-> y(t) s'annule entre 0 et 2s\n",
    "\n",
    "## Affiche des résultats\n",
    "print(\"data t1 = \",t1, \" s portée = \",x(t1),\" m\") # portée = x(t1)"
   ]
  }
 ],
 "metadata": {
  "kernelspec": {
   "display_name": "Python 3",
   "language": "python",
   "name": "python3"
  },
  "language_info": {
   "codemirror_mode": {
    "name": "ipython",
    "version": 3
   },
   "file_extension": ".py",
   "mimetype": "text/x-python",
   "name": "python",
   "nbconvert_exporter": "python",
   "pygments_lexer": "ipython3",
   "version": "3.7.6"
  }
 },
 "nbformat": 4,
 "nbformat_minor": 4
}
